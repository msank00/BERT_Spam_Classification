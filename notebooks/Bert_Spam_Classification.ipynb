{
  "nbformat": 4,
  "nbformat_minor": 0,
  "metadata": {
    "colab": {
      "name": "Bert_Spam_Classification.ipynb",
      "provenance": [],
      "collapsed_sections": []
    },
    "kernelspec": {
      "name": "python3",
      "display_name": "Python 3"
    },
    "accelerator": "GPU"
  },
  "cells": [
    {
      "cell_type": "markdown",
      "metadata": {
        "id": "c1mRPiLCeTup"
      },
      "source": [
        "# Introduction\n",
        "\n",
        "A wide range of transformer-based models started coming up for different NLP tasks. There are multiple advantages of using transformer-based models, but the most important ones are:\n",
        "\n",
        "## First Benefit\n",
        "\n",
        "- These models do not process an input sequence token by token rather they take the entire sequence as input in one go which is a big improvement over RNN based models because now the model can be accelerated by the GPUs.\n",
        "\n",
        "## 2nd Benefit\n",
        "\n",
        "- We don’t need labeled data to pre-train these models. It means that we have to just provide a huge amount of unlabeled text data to train a transformer-based model. We can use this trained model for other NLP tasks like text classification, named entity recognition, text generation, etc. This is how transfer learning works in NLP.\n",
        "\n",
        "BERT and GPT-2 are the most popular transformer-based models and in this article, we will focus on BERT and learn how we can use a pre-trained BERT model to perform text classification.\n",
        "\n",
        "**Reference:**\n",
        "\n",
        "- [Analyticsvidya Blog - starter code](https://www.analyticsvidhya.com/blog/2020/07/transfer-learning-for-nlp-fine-tuning-bert-for-text-classification/)\n",
        "- [bert-sentiment - Abhishek Thakur](https://github.com/abhishekkrthakur/bert-sentiment/blob/master/train.py)\n",
        "\n",
        "\n",
        "# Why finetune language model:\n",
        "\n",
        "We often have large quantity of unlabelled dataset with only a small amount of labelled dataset.If we need to get accurate classification, we can use pretrained models trained on large corpus to get decent results. Generally, we use pretrained language models trained on large corpus to get embeddings and then mostly add a layer or two of neural networks on top to fit to our task in hand. This works very well until the data on which language model was trained is similar to our data. \n",
        "\n",
        "**Problem:** If our data is different than data used for pretraining, results would not be that satifactory. Consider for example if we have mix of Hindi and English language data and we are using pretrained model trained on Wikipedia, it would lead to bad results. \n",
        "\n",
        "**Solution:** In that scenario we need to fine-tune our language model too. As shown by Jeremy Howard and Sebastian Ruder in [Universal Language Model Fine-tuning for Text Classification](https://arxiv.org/abs/1801.06146), finetuning the language model can lead to performance enhancement. We generally modify the last few layers of language models to adapt to our data. This has been done and explained by Fast.ai in [Finetuning FastAI language model](https://nlp.fast.ai/classification/2018/05/15/introducing-ulmfit.html). They have done it extensively for `ULMFit`. We can follow the same approach with Bert and other models. With the revolution in NLP world, and with the arrival of beasts such as Bert, OpenAI-GPT, Elmo and so on we need a library which could help us keep up with this growing pace in NLP. Here comes in Hugging Face pytorch-transformers, a one stop for NLP. This is easy to use library to meet all your NLP requirements written in Pytorch. We will see how we can fine-tune Bert language model and then use that for SequenceClassification all using pytorch-transformers.\n"
      ]
    },
    {
      "cell_type": "markdown",
      "metadata": {
        "id": "NVAMypjGTA-Z"
      },
      "source": [
        "# What is Model Fine-Tuning?\n",
        "\n",
        "BERT (Bidirectional Encoder Representations from Transformers) is a big neural network architecture, with a huge number of parameters, that can range from 100 million to over 300 million. So, training a BERT model from scratch on a small dataset would result in overfitting.\n",
        "\n",
        "So, it is better to use a pre-trained BERT model that was trained on a huge dataset, as a starting point. We can then further train the model on our relatively smaller dataset and this process is known as model fine-tuning."
      ]
    },
    {
      "cell_type": "markdown",
      "metadata": {
        "id": "4dIQAuAATJ0x"
      },
      "source": [
        "## Different Fine-Tuning Techniques\n",
        "\n",
        "- **Train the entire architecture** – We can further train the entire pre-trained model on our dataset and feed the output to a softmax layer. In this case, the error is back-propagated through the entire architecture and the pre-trained weights of the model are updated based on the new dataset.\n",
        "- **Train some layers while freezing others** – Another way to use a pre-trained model is to train it partially. What we can do is keep the weights of initial layers of the model frozen while we retrain only the higher layers. We can try and test as to how many layers to be frozen and how many to be trained.\n",
        "- **Freeze the entire architecture** – We can even freeze all the layers of the model and attach a few neural network layers of our own and train this new model. Note that the weights of only the attached layers will be updated during model training.\n",
        "\n",
        "In this tutorial, we will use the **second** approach. We will freeze all the layers of BERT except the last 2 layers during fine-tuning and append a dense layer and a softmax layer to the architecture."
      ]
    },
    {
      "cell_type": "code",
      "metadata": {
        "colab": {
          "base_uri": "https://localhost:8080/"
        },
        "id": "6mNveTIzdP0G",
        "outputId": "0f907df9-aa41-4cef-b94a-e4a77801c686"
      },
      "source": [
        "! wget https://github.com/prateekjoshi565/Fine-Tuning-BERT/raw/master/spamdata_v2.csv"
      ],
      "execution_count": 238,
      "outputs": [
        {
          "output_type": "stream",
          "text": [
            "--2021-01-30 16:55:11--  https://github.com/prateekjoshi565/Fine-Tuning-BERT/raw/master/spamdata_v2.csv\n",
            "Resolving github.com (github.com)... 140.82.112.3\n",
            "Connecting to github.com (github.com)|140.82.112.3|:443... connected.\n",
            "HTTP request sent, awaiting response... 302 Found\n",
            "Location: https://raw.githubusercontent.com/prateekjoshi565/Fine-Tuning-BERT/master/spamdata_v2.csv [following]\n",
            "--2021-01-30 16:55:12--  https://raw.githubusercontent.com/prateekjoshi565/Fine-Tuning-BERT/master/spamdata_v2.csv\n",
            "Resolving raw.githubusercontent.com (raw.githubusercontent.com)... 151.101.0.133, 151.101.64.133, 151.101.128.133, ...\n",
            "Connecting to raw.githubusercontent.com (raw.githubusercontent.com)|151.101.0.133|:443... connected.\n",
            "HTTP request sent, awaiting response... 200 OK\n",
            "Length: 467438 (456K) [text/plain]\n",
            "Saving to: ‘spamdata_v2.csv.2’\n",
            "\n",
            "spamdata_v2.csv.2   100%[===================>] 456.48K  --.-KB/s    in 0.01s   \n",
            "\n",
            "2021-01-30 16:55:12 (36.6 MB/s) - ‘spamdata_v2.csv.2’ saved [467438/467438]\n",
            "\n"
          ],
          "name": "stdout"
        }
      ]
    },
    {
      "cell_type": "code",
      "metadata": {
        "colab": {
          "base_uri": "https://localhost:8080/"
        },
        "id": "vL2KYIDidd_I",
        "outputId": "d5161156-085b-42cc-9a59-597c0f13336c"
      },
      "source": [
        "!ls"
      ],
      "execution_count": 239,
      "outputs": [
        {
          "output_type": "stream",
          "text": [
            "sample_data\t  spamdata_v2.csv    spamdata_v2.csv.2\n",
            "saved_weights.pt  spamdata_v2.csv.1\n"
          ],
          "name": "stdout"
        }
      ]
    },
    {
      "cell_type": "code",
      "metadata": {
        "colab": {
          "base_uri": "https://localhost:8080/"
        },
        "id": "szk60a0md2Is",
        "outputId": "c4028932-9813-4530-9ca1-e4994c8d134d"
      },
      "source": [
        "!pwd"
      ],
      "execution_count": 240,
      "outputs": [
        {
          "output_type": "stream",
          "text": [
            "/content\n"
          ],
          "name": "stdout"
        }
      ]
    },
    {
      "cell_type": "code",
      "metadata": {
        "id": "AsS2DcW0d_Nz"
      },
      "source": [
        "import pandas as pd"
      ],
      "execution_count": 241,
      "outputs": []
    },
    {
      "cell_type": "code",
      "metadata": {
        "id": "JdpZQMmKeCTC"
      },
      "source": [
        "df = pd.read_csv(\"spamdata_v2.csv\")"
      ],
      "execution_count": 242,
      "outputs": []
    },
    {
      "cell_type": "code",
      "metadata": {
        "colab": {
          "base_uri": "https://localhost:8080/",
          "height": 204
        },
        "id": "zPb-E3soeIoZ",
        "outputId": "4d30be1d-b28c-4171-86e2-315038d6237b"
      },
      "source": [
        "df.head()"
      ],
      "execution_count": 243,
      "outputs": [
        {
          "output_type": "execute_result",
          "data": {
            "text/html": [
              "<div>\n",
              "<style scoped>\n",
              "    .dataframe tbody tr th:only-of-type {\n",
              "        vertical-align: middle;\n",
              "    }\n",
              "\n",
              "    .dataframe tbody tr th {\n",
              "        vertical-align: top;\n",
              "    }\n",
              "\n",
              "    .dataframe thead th {\n",
              "        text-align: right;\n",
              "    }\n",
              "</style>\n",
              "<table border=\"1\" class=\"dataframe\">\n",
              "  <thead>\n",
              "    <tr style=\"text-align: right;\">\n",
              "      <th></th>\n",
              "      <th>label</th>\n",
              "      <th>text</th>\n",
              "    </tr>\n",
              "  </thead>\n",
              "  <tbody>\n",
              "    <tr>\n",
              "      <th>0</th>\n",
              "      <td>0</td>\n",
              "      <td>Go until jurong point, crazy.. Available only ...</td>\n",
              "    </tr>\n",
              "    <tr>\n",
              "      <th>1</th>\n",
              "      <td>0</td>\n",
              "      <td>Ok lar... Joking wif u oni...</td>\n",
              "    </tr>\n",
              "    <tr>\n",
              "      <th>2</th>\n",
              "      <td>1</td>\n",
              "      <td>Free entry in 2 a wkly comp to win FA Cup fina...</td>\n",
              "    </tr>\n",
              "    <tr>\n",
              "      <th>3</th>\n",
              "      <td>0</td>\n",
              "      <td>U dun say so early hor... U c already then say...</td>\n",
              "    </tr>\n",
              "    <tr>\n",
              "      <th>4</th>\n",
              "      <td>0</td>\n",
              "      <td>Nah I don't think he goes to usf, he lives aro...</td>\n",
              "    </tr>\n",
              "  </tbody>\n",
              "</table>\n",
              "</div>"
            ],
            "text/plain": [
              "   label                                               text\n",
              "0      0  Go until jurong point, crazy.. Available only ...\n",
              "1      0                      Ok lar... Joking wif u oni...\n",
              "2      1  Free entry in 2 a wkly comp to win FA Cup fina...\n",
              "3      0  U dun say so early hor... U c already then say...\n",
              "4      0  Nah I don't think he goes to usf, he lives aro..."
            ]
          },
          "metadata": {
            "tags": []
          },
          "execution_count": 243
        }
      ]
    },
    {
      "cell_type": "code",
      "metadata": {
        "colab": {
          "base_uri": "https://localhost:8080/"
        },
        "id": "Jn83usIBeKct",
        "outputId": "da0849df-c36b-4cf9-c094-14fb60380d31"
      },
      "source": [
        "!pip install transformers"
      ],
      "execution_count": 244,
      "outputs": [
        {
          "output_type": "stream",
          "text": [
            "Requirement already satisfied: transformers in /usr/local/lib/python3.6/dist-packages (4.2.2)\n",
            "Requirement already satisfied: packaging in /usr/local/lib/python3.6/dist-packages (from transformers) (20.8)\n",
            "Requirement already satisfied: regex!=2019.12.17 in /usr/local/lib/python3.6/dist-packages (from transformers) (2019.12.20)\n",
            "Requirement already satisfied: importlib-metadata; python_version < \"3.8\" in /usr/local/lib/python3.6/dist-packages (from transformers) (3.4.0)\n",
            "Requirement already satisfied: tokenizers==0.9.4 in /usr/local/lib/python3.6/dist-packages (from transformers) (0.9.4)\n",
            "Requirement already satisfied: sacremoses in /usr/local/lib/python3.6/dist-packages (from transformers) (0.0.43)\n",
            "Requirement already satisfied: numpy in /usr/local/lib/python3.6/dist-packages (from transformers) (1.19.5)\n",
            "Requirement already satisfied: filelock in /usr/local/lib/python3.6/dist-packages (from transformers) (3.0.12)\n",
            "Requirement already satisfied: requests in /usr/local/lib/python3.6/dist-packages (from transformers) (2.23.0)\n",
            "Requirement already satisfied: dataclasses; python_version < \"3.7\" in /usr/local/lib/python3.6/dist-packages (from transformers) (0.8)\n",
            "Requirement already satisfied: tqdm>=4.27 in /usr/local/lib/python3.6/dist-packages (from transformers) (4.41.1)\n",
            "Requirement already satisfied: pyparsing>=2.0.2 in /usr/local/lib/python3.6/dist-packages (from packaging->transformers) (2.4.7)\n",
            "Requirement already satisfied: zipp>=0.5 in /usr/local/lib/python3.6/dist-packages (from importlib-metadata; python_version < \"3.8\"->transformers) (3.4.0)\n",
            "Requirement already satisfied: typing-extensions>=3.6.4; python_version < \"3.8\" in /usr/local/lib/python3.6/dist-packages (from importlib-metadata; python_version < \"3.8\"->transformers) (3.7.4.3)\n",
            "Requirement already satisfied: six in /usr/local/lib/python3.6/dist-packages (from sacremoses->transformers) (1.15.0)\n",
            "Requirement already satisfied: joblib in /usr/local/lib/python3.6/dist-packages (from sacremoses->transformers) (1.0.0)\n",
            "Requirement already satisfied: click in /usr/local/lib/python3.6/dist-packages (from sacremoses->transformers) (7.1.2)\n",
            "Requirement already satisfied: urllib3!=1.25.0,!=1.25.1,<1.26,>=1.21.1 in /usr/local/lib/python3.6/dist-packages (from requests->transformers) (1.24.3)\n",
            "Requirement already satisfied: certifi>=2017.4.17 in /usr/local/lib/python3.6/dist-packages (from requests->transformers) (2020.12.5)\n",
            "Requirement already satisfied: idna<3,>=2.5 in /usr/local/lib/python3.6/dist-packages (from requests->transformers) (2.10)\n",
            "Requirement already satisfied: chardet<4,>=3.0.2 in /usr/local/lib/python3.6/dist-packages (from requests->transformers) (3.0.4)\n"
          ],
          "name": "stdout"
        }
      ]
    },
    {
      "cell_type": "code",
      "metadata": {
        "id": "8yLqlo7Fe4QC"
      },
      "source": [
        "import numpy as np\n",
        "import pandas as pd\n",
        "import torch\n",
        "import torch.nn as nn\n",
        "from sklearn.model_selection import train_test_split\n",
        "from sklearn.metrics import classification_report\n",
        "import transformers\n",
        "from transformers import AutoModel, BertTokenizerFast\n",
        "\n"
      ],
      "execution_count": 245,
      "outputs": []
    },
    {
      "cell_type": "code",
      "metadata": {
        "colab": {
          "base_uri": "https://localhost:8080/"
        },
        "id": "MHDUnda6e4R7",
        "outputId": "23d34dd1-03f5-4cc0-9484-589b2feeefec"
      },
      "source": [
        "device = torch.device('cuda' if torch.cuda.is_available() else 'cpu')\n",
        "print(f'Using device: {device}')"
      ],
      "execution_count": 246,
      "outputs": [
        {
          "output_type": "stream",
          "text": [
            "Using device: cuda\n"
          ],
          "name": "stdout"
        }
      ]
    },
    {
      "cell_type": "code",
      "metadata": {
        "id": "N5PUSzdle4WG"
      },
      "source": [
        "# split train dataset into train, validation and test sets\n",
        "train_text, temp_text, train_labels, temp_labels = train_test_split(df['text'], df['label'], \n",
        "                                                                    random_state=2018, \n",
        "                                                                    test_size=0.3, \n",
        "                                                                    stratify=df['label'])\n",
        "\n",
        "\n",
        "val_text, test_text, val_labels, test_labels = train_test_split(temp_text, temp_labels, \n",
        "                                                                random_state=2018, \n",
        "                                                                test_size=0.5, \n",
        "                                                                stratify=temp_labels)"
      ],
      "execution_count": 247,
      "outputs": []
    },
    {
      "cell_type": "code",
      "metadata": {
        "id": "VRtGQItle4X8"
      },
      "source": [
        "# import BERT-base pretrained model\n",
        "bert = AutoModel.from_pretrained('bert-base-uncased')"
      ],
      "execution_count": 248,
      "outputs": []
    },
    {
      "cell_type": "code",
      "metadata": {
        "id": "P1-L9Dzwr3al"
      },
      "source": [
        "# Load the BERT tokenizer\n",
        "tokenizer = BertTokenizerFast.from_pretrained('bert-base-uncased')"
      ],
      "execution_count": 249,
      "outputs": []
    },
    {
      "cell_type": "code",
      "metadata": {
        "id": "fSjJzZYWr-mu"
      },
      "source": [
        "from prettytable import PrettyTable"
      ],
      "execution_count": 250,
      "outputs": []
    },
    {
      "cell_type": "code",
      "metadata": {
        "id": "607YgVy2sWl6"
      },
      "source": [
        "def count_parameters(model):\n",
        "    table = PrettyTable([\"Modules\", \"Parameters\"])\n",
        "    total_params = 0\n",
        "    for name, parameter in model.named_parameters():\n",
        "        if not parameter.requires_grad: continue\n",
        "        param = parameter.numel()\n",
        "        table.add_row([name, param])\n",
        "        total_params+=param\n",
        "    print(table)\n",
        "    print(f\"Total Trainable Params: {total_params}\")\n",
        "    return total_params"
      ],
      "execution_count": 251,
      "outputs": []
    },
    {
      "cell_type": "markdown",
      "metadata": {
        "id": "Q31QSA39PhQo"
      },
      "source": [
        "## Count trainable parameters"
      ]
    },
    {
      "cell_type": "code",
      "metadata": {
        "colab": {
          "base_uri": "https://localhost:8080/"
        },
        "id": "_hYerFsQsZEs",
        "outputId": "f65cbfd7-4655-423a-a887-bd8183e1b913"
      },
      "source": [
        "count_parameters(bert)\n"
      ],
      "execution_count": 252,
      "outputs": [
        {
          "output_type": "stream",
          "text": [
            "+----------------------------------------------------+------------+\n",
            "|                      Modules                       | Parameters |\n",
            "+----------------------------------------------------+------------+\n",
            "|         embeddings.word_embeddings.weight          |  23440896  |\n",
            "|       embeddings.position_embeddings.weight        |   393216   |\n",
            "|      embeddings.token_type_embeddings.weight       |    1536    |\n",
            "|            embeddings.LayerNorm.weight             |    768     |\n",
            "|             embeddings.LayerNorm.bias              |    768     |\n",
            "|    encoder.layer.0.attention.self.query.weight     |   589824   |\n",
            "|     encoder.layer.0.attention.self.query.bias      |    768     |\n",
            "|     encoder.layer.0.attention.self.key.weight      |   589824   |\n",
            "|      encoder.layer.0.attention.self.key.bias       |    768     |\n",
            "|    encoder.layer.0.attention.self.value.weight     |   589824   |\n",
            "|     encoder.layer.0.attention.self.value.bias      |    768     |\n",
            "|   encoder.layer.0.attention.output.dense.weight    |   589824   |\n",
            "|    encoder.layer.0.attention.output.dense.bias     |    768     |\n",
            "| encoder.layer.0.attention.output.LayerNorm.weight  |    768     |\n",
            "|  encoder.layer.0.attention.output.LayerNorm.bias   |    768     |\n",
            "|     encoder.layer.0.intermediate.dense.weight      |  2359296   |\n",
            "|      encoder.layer.0.intermediate.dense.bias       |    3072    |\n",
            "|        encoder.layer.0.output.dense.weight         |  2359296   |\n",
            "|         encoder.layer.0.output.dense.bias          |    768     |\n",
            "|      encoder.layer.0.output.LayerNorm.weight       |    768     |\n",
            "|       encoder.layer.0.output.LayerNorm.bias        |    768     |\n",
            "|    encoder.layer.1.attention.self.query.weight     |   589824   |\n",
            "|     encoder.layer.1.attention.self.query.bias      |    768     |\n",
            "|     encoder.layer.1.attention.self.key.weight      |   589824   |\n",
            "|      encoder.layer.1.attention.self.key.bias       |    768     |\n",
            "|    encoder.layer.1.attention.self.value.weight     |   589824   |\n",
            "|     encoder.layer.1.attention.self.value.bias      |    768     |\n",
            "|   encoder.layer.1.attention.output.dense.weight    |   589824   |\n",
            "|    encoder.layer.1.attention.output.dense.bias     |    768     |\n",
            "| encoder.layer.1.attention.output.LayerNorm.weight  |    768     |\n",
            "|  encoder.layer.1.attention.output.LayerNorm.bias   |    768     |\n",
            "|     encoder.layer.1.intermediate.dense.weight      |  2359296   |\n",
            "|      encoder.layer.1.intermediate.dense.bias       |    3072    |\n",
            "|        encoder.layer.1.output.dense.weight         |  2359296   |\n",
            "|         encoder.layer.1.output.dense.bias          |    768     |\n",
            "|      encoder.layer.1.output.LayerNorm.weight       |    768     |\n",
            "|       encoder.layer.1.output.LayerNorm.bias        |    768     |\n",
            "|    encoder.layer.2.attention.self.query.weight     |   589824   |\n",
            "|     encoder.layer.2.attention.self.query.bias      |    768     |\n",
            "|     encoder.layer.2.attention.self.key.weight      |   589824   |\n",
            "|      encoder.layer.2.attention.self.key.bias       |    768     |\n",
            "|    encoder.layer.2.attention.self.value.weight     |   589824   |\n",
            "|     encoder.layer.2.attention.self.value.bias      |    768     |\n",
            "|   encoder.layer.2.attention.output.dense.weight    |   589824   |\n",
            "|    encoder.layer.2.attention.output.dense.bias     |    768     |\n",
            "| encoder.layer.2.attention.output.LayerNorm.weight  |    768     |\n",
            "|  encoder.layer.2.attention.output.LayerNorm.bias   |    768     |\n",
            "|     encoder.layer.2.intermediate.dense.weight      |  2359296   |\n",
            "|      encoder.layer.2.intermediate.dense.bias       |    3072    |\n",
            "|        encoder.layer.2.output.dense.weight         |  2359296   |\n",
            "|         encoder.layer.2.output.dense.bias          |    768     |\n",
            "|      encoder.layer.2.output.LayerNorm.weight       |    768     |\n",
            "|       encoder.layer.2.output.LayerNorm.bias        |    768     |\n",
            "|    encoder.layer.3.attention.self.query.weight     |   589824   |\n",
            "|     encoder.layer.3.attention.self.query.bias      |    768     |\n",
            "|     encoder.layer.3.attention.self.key.weight      |   589824   |\n",
            "|      encoder.layer.3.attention.self.key.bias       |    768     |\n",
            "|    encoder.layer.3.attention.self.value.weight     |   589824   |\n",
            "|     encoder.layer.3.attention.self.value.bias      |    768     |\n",
            "|   encoder.layer.3.attention.output.dense.weight    |   589824   |\n",
            "|    encoder.layer.3.attention.output.dense.bias     |    768     |\n",
            "| encoder.layer.3.attention.output.LayerNorm.weight  |    768     |\n",
            "|  encoder.layer.3.attention.output.LayerNorm.bias   |    768     |\n",
            "|     encoder.layer.3.intermediate.dense.weight      |  2359296   |\n",
            "|      encoder.layer.3.intermediate.dense.bias       |    3072    |\n",
            "|        encoder.layer.3.output.dense.weight         |  2359296   |\n",
            "|         encoder.layer.3.output.dense.bias          |    768     |\n",
            "|      encoder.layer.3.output.LayerNorm.weight       |    768     |\n",
            "|       encoder.layer.3.output.LayerNorm.bias        |    768     |\n",
            "|    encoder.layer.4.attention.self.query.weight     |   589824   |\n",
            "|     encoder.layer.4.attention.self.query.bias      |    768     |\n",
            "|     encoder.layer.4.attention.self.key.weight      |   589824   |\n",
            "|      encoder.layer.4.attention.self.key.bias       |    768     |\n",
            "|    encoder.layer.4.attention.self.value.weight     |   589824   |\n",
            "|     encoder.layer.4.attention.self.value.bias      |    768     |\n",
            "|   encoder.layer.4.attention.output.dense.weight    |   589824   |\n",
            "|    encoder.layer.4.attention.output.dense.bias     |    768     |\n",
            "| encoder.layer.4.attention.output.LayerNorm.weight  |    768     |\n",
            "|  encoder.layer.4.attention.output.LayerNorm.bias   |    768     |\n",
            "|     encoder.layer.4.intermediate.dense.weight      |  2359296   |\n",
            "|      encoder.layer.4.intermediate.dense.bias       |    3072    |\n",
            "|        encoder.layer.4.output.dense.weight         |  2359296   |\n",
            "|         encoder.layer.4.output.dense.bias          |    768     |\n",
            "|      encoder.layer.4.output.LayerNorm.weight       |    768     |\n",
            "|       encoder.layer.4.output.LayerNorm.bias        |    768     |\n",
            "|    encoder.layer.5.attention.self.query.weight     |   589824   |\n",
            "|     encoder.layer.5.attention.self.query.bias      |    768     |\n",
            "|     encoder.layer.5.attention.self.key.weight      |   589824   |\n",
            "|      encoder.layer.5.attention.self.key.bias       |    768     |\n",
            "|    encoder.layer.5.attention.self.value.weight     |   589824   |\n",
            "|     encoder.layer.5.attention.self.value.bias      |    768     |\n",
            "|   encoder.layer.5.attention.output.dense.weight    |   589824   |\n",
            "|    encoder.layer.5.attention.output.dense.bias     |    768     |\n",
            "| encoder.layer.5.attention.output.LayerNorm.weight  |    768     |\n",
            "|  encoder.layer.5.attention.output.LayerNorm.bias   |    768     |\n",
            "|     encoder.layer.5.intermediate.dense.weight      |  2359296   |\n",
            "|      encoder.layer.5.intermediate.dense.bias       |    3072    |\n",
            "|        encoder.layer.5.output.dense.weight         |  2359296   |\n",
            "|         encoder.layer.5.output.dense.bias          |    768     |\n",
            "|      encoder.layer.5.output.LayerNorm.weight       |    768     |\n",
            "|       encoder.layer.5.output.LayerNorm.bias        |    768     |\n",
            "|    encoder.layer.6.attention.self.query.weight     |   589824   |\n",
            "|     encoder.layer.6.attention.self.query.bias      |    768     |\n",
            "|     encoder.layer.6.attention.self.key.weight      |   589824   |\n",
            "|      encoder.layer.6.attention.self.key.bias       |    768     |\n",
            "|    encoder.layer.6.attention.self.value.weight     |   589824   |\n",
            "|     encoder.layer.6.attention.self.value.bias      |    768     |\n",
            "|   encoder.layer.6.attention.output.dense.weight    |   589824   |\n",
            "|    encoder.layer.6.attention.output.dense.bias     |    768     |\n",
            "| encoder.layer.6.attention.output.LayerNorm.weight  |    768     |\n",
            "|  encoder.layer.6.attention.output.LayerNorm.bias   |    768     |\n",
            "|     encoder.layer.6.intermediate.dense.weight      |  2359296   |\n",
            "|      encoder.layer.6.intermediate.dense.bias       |    3072    |\n",
            "|        encoder.layer.6.output.dense.weight         |  2359296   |\n",
            "|         encoder.layer.6.output.dense.bias          |    768     |\n",
            "|      encoder.layer.6.output.LayerNorm.weight       |    768     |\n",
            "|       encoder.layer.6.output.LayerNorm.bias        |    768     |\n",
            "|    encoder.layer.7.attention.self.query.weight     |   589824   |\n",
            "|     encoder.layer.7.attention.self.query.bias      |    768     |\n",
            "|     encoder.layer.7.attention.self.key.weight      |   589824   |\n",
            "|      encoder.layer.7.attention.self.key.bias       |    768     |\n",
            "|    encoder.layer.7.attention.self.value.weight     |   589824   |\n",
            "|     encoder.layer.7.attention.self.value.bias      |    768     |\n",
            "|   encoder.layer.7.attention.output.dense.weight    |   589824   |\n",
            "|    encoder.layer.7.attention.output.dense.bias     |    768     |\n",
            "| encoder.layer.7.attention.output.LayerNorm.weight  |    768     |\n",
            "|  encoder.layer.7.attention.output.LayerNorm.bias   |    768     |\n",
            "|     encoder.layer.7.intermediate.dense.weight      |  2359296   |\n",
            "|      encoder.layer.7.intermediate.dense.bias       |    3072    |\n",
            "|        encoder.layer.7.output.dense.weight         |  2359296   |\n",
            "|         encoder.layer.7.output.dense.bias          |    768     |\n",
            "|      encoder.layer.7.output.LayerNorm.weight       |    768     |\n",
            "|       encoder.layer.7.output.LayerNorm.bias        |    768     |\n",
            "|    encoder.layer.8.attention.self.query.weight     |   589824   |\n",
            "|     encoder.layer.8.attention.self.query.bias      |    768     |\n",
            "|     encoder.layer.8.attention.self.key.weight      |   589824   |\n",
            "|      encoder.layer.8.attention.self.key.bias       |    768     |\n",
            "|    encoder.layer.8.attention.self.value.weight     |   589824   |\n",
            "|     encoder.layer.8.attention.self.value.bias      |    768     |\n",
            "|   encoder.layer.8.attention.output.dense.weight    |   589824   |\n",
            "|    encoder.layer.8.attention.output.dense.bias     |    768     |\n",
            "| encoder.layer.8.attention.output.LayerNorm.weight  |    768     |\n",
            "|  encoder.layer.8.attention.output.LayerNorm.bias   |    768     |\n",
            "|     encoder.layer.8.intermediate.dense.weight      |  2359296   |\n",
            "|      encoder.layer.8.intermediate.dense.bias       |    3072    |\n",
            "|        encoder.layer.8.output.dense.weight         |  2359296   |\n",
            "|         encoder.layer.8.output.dense.bias          |    768     |\n",
            "|      encoder.layer.8.output.LayerNorm.weight       |    768     |\n",
            "|       encoder.layer.8.output.LayerNorm.bias        |    768     |\n",
            "|    encoder.layer.9.attention.self.query.weight     |   589824   |\n",
            "|     encoder.layer.9.attention.self.query.bias      |    768     |\n",
            "|     encoder.layer.9.attention.self.key.weight      |   589824   |\n",
            "|      encoder.layer.9.attention.self.key.bias       |    768     |\n",
            "|    encoder.layer.9.attention.self.value.weight     |   589824   |\n",
            "|     encoder.layer.9.attention.self.value.bias      |    768     |\n",
            "|   encoder.layer.9.attention.output.dense.weight    |   589824   |\n",
            "|    encoder.layer.9.attention.output.dense.bias     |    768     |\n",
            "| encoder.layer.9.attention.output.LayerNorm.weight  |    768     |\n",
            "|  encoder.layer.9.attention.output.LayerNorm.bias   |    768     |\n",
            "|     encoder.layer.9.intermediate.dense.weight      |  2359296   |\n",
            "|      encoder.layer.9.intermediate.dense.bias       |    3072    |\n",
            "|        encoder.layer.9.output.dense.weight         |  2359296   |\n",
            "|         encoder.layer.9.output.dense.bias          |    768     |\n",
            "|      encoder.layer.9.output.LayerNorm.weight       |    768     |\n",
            "|       encoder.layer.9.output.LayerNorm.bias        |    768     |\n",
            "|    encoder.layer.10.attention.self.query.weight    |   589824   |\n",
            "|     encoder.layer.10.attention.self.query.bias     |    768     |\n",
            "|     encoder.layer.10.attention.self.key.weight     |   589824   |\n",
            "|      encoder.layer.10.attention.self.key.bias      |    768     |\n",
            "|    encoder.layer.10.attention.self.value.weight    |   589824   |\n",
            "|     encoder.layer.10.attention.self.value.bias     |    768     |\n",
            "|   encoder.layer.10.attention.output.dense.weight   |   589824   |\n",
            "|    encoder.layer.10.attention.output.dense.bias    |    768     |\n",
            "| encoder.layer.10.attention.output.LayerNorm.weight |    768     |\n",
            "|  encoder.layer.10.attention.output.LayerNorm.bias  |    768     |\n",
            "|     encoder.layer.10.intermediate.dense.weight     |  2359296   |\n",
            "|      encoder.layer.10.intermediate.dense.bias      |    3072    |\n",
            "|        encoder.layer.10.output.dense.weight        |  2359296   |\n",
            "|         encoder.layer.10.output.dense.bias         |    768     |\n",
            "|      encoder.layer.10.output.LayerNorm.weight      |    768     |\n",
            "|       encoder.layer.10.output.LayerNorm.bias       |    768     |\n",
            "|    encoder.layer.11.attention.self.query.weight    |   589824   |\n",
            "|     encoder.layer.11.attention.self.query.bias     |    768     |\n",
            "|     encoder.layer.11.attention.self.key.weight     |   589824   |\n",
            "|      encoder.layer.11.attention.self.key.bias      |    768     |\n",
            "|    encoder.layer.11.attention.self.value.weight    |   589824   |\n",
            "|     encoder.layer.11.attention.self.value.bias     |    768     |\n",
            "|   encoder.layer.11.attention.output.dense.weight   |   589824   |\n",
            "|    encoder.layer.11.attention.output.dense.bias    |    768     |\n",
            "| encoder.layer.11.attention.output.LayerNorm.weight |    768     |\n",
            "|  encoder.layer.11.attention.output.LayerNorm.bias  |    768     |\n",
            "|     encoder.layer.11.intermediate.dense.weight     |  2359296   |\n",
            "|      encoder.layer.11.intermediate.dense.bias      |    3072    |\n",
            "|        encoder.layer.11.output.dense.weight        |  2359296   |\n",
            "|         encoder.layer.11.output.dense.bias         |    768     |\n",
            "|      encoder.layer.11.output.LayerNorm.weight      |    768     |\n",
            "|       encoder.layer.11.output.LayerNorm.bias       |    768     |\n",
            "|                pooler.dense.weight                 |   589824   |\n",
            "|                 pooler.dense.bias                  |    768     |\n",
            "+----------------------------------------------------+------------+\n",
            "Total Trainable Params: 109482240\n"
          ],
          "name": "stdout"
        },
        {
          "output_type": "execute_result",
          "data": {
            "text/plain": [
              "109482240"
            ]
          },
          "metadata": {
            "tags": []
          },
          "execution_count": 252
        }
      ]
    },
    {
      "cell_type": "markdown",
      "metadata": {
        "id": "mh24n-_gxHH1"
      },
      "source": [
        "Let’s see how this BERT tokenizer works. We will try to encode a couple of sentences using the tokenizer."
      ]
    },
    {
      "cell_type": "code",
      "metadata": {
        "colab": {
          "base_uri": "https://localhost:8080/"
        },
        "id": "EBDBbxLdtIXh",
        "outputId": "66a89e43-e636-4765-8e53-54d6e45c97ac"
      },
      "source": [
        "# sample data\n",
        "text = [\"we will fine-tune a bert model\"]\n",
        "\n",
        "# encode text\n",
        "sent_id = tokenizer.batch_encode_plus(text, padding=True)\n",
        "\n",
        "# output\n",
        "print(sent_id)"
      ],
      "execution_count": 253,
      "outputs": [
        {
          "output_type": "stream",
          "text": [
            "{'input_ids': [[101, 2057, 2097, 2986, 1011, 8694, 1037, 14324, 2944, 102]], 'token_type_ids': [[0, 0, 0, 0, 0, 0, 0, 0, 0, 0]], 'attention_mask': [[1, 1, 1, 1, 1, 1, 1, 1, 1, 1]]}\n"
          ],
          "name": "stdout"
        }
      ]
    },
    {
      "cell_type": "code",
      "metadata": {
        "colab": {
          "base_uri": "https://localhost:8080/",
          "height": 265
        },
        "id": "Om-lw-pDxTcL",
        "outputId": "4ff20009-725e-443f-f656-a66da693d6f4"
      },
      "source": [
        "# get length of all the messages in the train set\n",
        "seq_len = [len(i.split()) for i in train_text]\n",
        "\n",
        "pd.Series(seq_len).hist(bins = 30);"
      ],
      "execution_count": 254,
      "outputs": [
        {
          "output_type": "display_data",
          "data": {
            "image/png": "[encoded data removed]",
            "text/plain": [
              "<Figure size 432x288 with 1 Axes>"
            ]
          },
          "metadata": {
            "tags": [],
            "needs_background": "light"
          }
        }
      ]
    },
    {
      "cell_type": "code",
      "metadata": {
        "colab": {
          "base_uri": "https://localhost:8080/"
        },
        "id": "aurnpjbIxtV3",
        "outputId": "01fe5fc6-5936-4c0a-e0d7-043c5c08c6e4"
      },
      "source": [
        "train_text"
      ],
      "execution_count": 255,
      "outputs": [
        {
          "output_type": "execute_result",
          "data": {
            "text/plain": [
              "1188    All will come alive.better correct any good lo...\n",
              "5403             So gd got free ice cream... I oso wan...\n",
              "2924                     Are you coming to day for class.\n",
              "880     Reminder: You have not downloaded the content ...\n",
              "719     Macha dont feel upset.i can assume your mindse...\n",
              "                              ...                        \n",
              "5121                     Oops I did have it,  &lt;#&gt; ?\n",
              "1006    Panasonic & BluetoothHdset FREE. Nokia FREE. M...\n",
              "4374    Ur TONEXS subscription has been renewed and yo...\n",
              "903     Lovely smell on this bus and it ain't tobacco... \n",
              "5057    Geeeee ... Your internet is really bad today, ...\n",
              "Name: text, Length: 3900, dtype: object"
            ]
          },
          "metadata": {
            "tags": []
          },
          "execution_count": 255
        }
      ]
    },
    {
      "cell_type": "code",
      "metadata": {
        "colab": {
          "base_uri": "https://localhost:8080/"
        },
        "id": "inu_BdT7xh-e",
        "outputId": "46780c79-e102-4afa-efed-ce7753ae4ed1"
      },
      "source": [
        "# tokenize and encode sequences in the training set\n",
        "tokens_train = tokenizer.batch_encode_plus(\n",
        "    train_text.tolist(),\n",
        "    max_length = 25,\n",
        "    pad_to_max_length=True,\n",
        "    truncation=True\n",
        ")\n",
        "\n",
        "# tokenize and encode sequences in the validation set\n",
        "tokens_val = tokenizer.batch_encode_plus(\n",
        "    val_text.tolist(),\n",
        "    max_length = 25,\n",
        "    pad_to_max_length=True,\n",
        "    truncation=True\n",
        ")\n",
        "\n",
        "# tokenize and encode sequences in the test set\n",
        "tokens_test = tokenizer.batch_encode_plus(\n",
        "    test_text.tolist(),\n",
        "    max_length = 25,\n",
        "    pad_to_max_length=True,\n",
        "    truncation=True\n",
        ")"
      ],
      "execution_count": 256,
      "outputs": [
        {
          "output_type": "stream",
          "text": [
            "/usr/local/lib/python3.6/dist-packages/transformers/tokenization_utils_base.py:2143: FutureWarning: The `pad_to_max_length` argument is deprecated and will be removed in a future version, use `padding=True` or `padding='longest'` to pad to the longest sequence in the batch, or use `padding='max_length'` to pad to a max length. In this case, you can give a specific length with `max_length` (e.g. `max_length=45`) or leave max_length to None to pad to the maximal input size of the model (e.g. 512 for Bert).\n",
            "  FutureWarning,\n"
          ],
          "name": "stderr"
        }
      ]
    },
    {
      "cell_type": "code",
      "metadata": {
        "colab": {
          "base_uri": "https://localhost:8080/"
        },
        "id": "PqELYxSSyNPB",
        "outputId": "dc892af2-9520-493e-fe92-b2169861c906"
      },
      "source": [
        "tokens_train.keys()"
      ],
      "execution_count": 257,
      "outputs": [
        {
          "output_type": "execute_result",
          "data": {
            "text/plain": [
              "dict_keys(['input_ids', 'token_type_ids', 'attention_mask'])"
            ]
          },
          "metadata": {
            "tags": []
          },
          "execution_count": 257
        }
      ]
    },
    {
      "cell_type": "code",
      "metadata": {
        "id": "xkll0vq4yTFz"
      },
      "source": [
        "## convert lists to tensors\n",
        "\n",
        "train_seq = torch.tensor(tokens_train['input_ids'])\n",
        "train_mask = torch.tensor(tokens_train['attention_mask'])\n",
        "train_token_ids = torch.tensor(tokens_train['token_type_ids'])\n",
        "train_y = torch.tensor(train_labels.tolist())\n",
        "\n",
        "val_seq = torch.tensor(tokens_val['input_ids'])\n",
        "val_mask = torch.tensor(tokens_val['attention_mask'])\n",
        "val_token_ids = torch.tensor(tokens_val['token_type_ids'])\n",
        "val_y = torch.tensor(val_labels.tolist())\n",
        "\n",
        "test_seq = torch.tensor(tokens_test['input_ids'])\n",
        "test_mask = torch.tensor(tokens_test['attention_mask'])\n",
        "test_token_ids = torch.tensor(tokens_test['token_type_ids'])\n",
        "test_y = torch.tensor(test_labels.tolist())"
      ],
      "execution_count": 258,
      "outputs": []
    },
    {
      "cell_type": "code",
      "metadata": {
        "id": "8RcBTHfhynDj"
      },
      "source": [
        "from torch.utils.data import TensorDataset, DataLoader, RandomSampler, SequentialSampler\n",
        "\n",
        "#define a batch size\n",
        "batch_size = 32\n",
        "\n",
        "# wrap tensors\n",
        "train_data = TensorDataset(train_seq, train_mask, train_token_ids, train_y)\n",
        "\n",
        "# sampler for sampling the data during training\n",
        "train_sampler = RandomSampler(train_data)\n",
        "\n",
        "# dataLoader for train set\n",
        "train_dataloader = DataLoader(train_data, sampler=train_sampler, batch_size=batch_size)\n",
        "\n",
        "# wrap tensors\n",
        "val_data = TensorDataset(val_seq, val_mask, val_token_ids, val_y)\n",
        "\n",
        "# sampler for sampling the data during training\n",
        "val_sampler = SequentialSampler(val_data)\n",
        "\n",
        "# dataLoader for validation set\n",
        "val_dataloader = DataLoader(val_data, sampler = val_sampler, batch_size=batch_size)\n"
      ],
      "execution_count": 259,
      "outputs": []
    },
    {
      "cell_type": "markdown",
      "metadata": {
        "id": "qoYE91PxPyYA"
      },
      "source": [
        "# Check different pre-trained layers"
      ]
    },
    {
      "cell_type": "code",
      "metadata": {
        "colab": {
          "base_uri": "https://localhost:8080/"
        },
        "id": "eQFLE2RJy5Br",
        "outputId": "4794af02-70c3-4216-b023-d6e90d84bd8c"
      },
      "source": [
        "for name, param in bert.named_parameters():\n",
        "    print(f\"layer name: {name}, require grad: {param.requires_grad}\")"
      ],
      "execution_count": 260,
      "outputs": [
        {
          "output_type": "stream",
          "text": [
            "layer name: embeddings.word_embeddings.weight, require grad: True\n",
            "layer name: embeddings.position_embeddings.weight, require grad: True\n",
            "layer name: embeddings.token_type_embeddings.weight, require grad: True\n",
            "layer name: embeddings.LayerNorm.weight, require grad: True\n",
            "layer name: embeddings.LayerNorm.bias, require grad: True\n",
            "layer name: encoder.layer.0.attention.self.query.weight, require grad: True\n",
            "layer name: encoder.layer.0.attention.self.query.bias, require grad: True\n",
            "layer name: encoder.layer.0.attention.self.key.weight, require grad: True\n",
            "layer name: encoder.layer.0.attention.self.key.bias, require grad: True\n",
            "layer name: encoder.layer.0.attention.self.value.weight, require grad: True\n",
            "layer name: encoder.layer.0.attention.self.value.bias, require grad: True\n",
            "layer name: encoder.layer.0.attention.output.dense.weight, require grad: True\n",
            "layer name: encoder.layer.0.attention.output.dense.bias, require grad: True\n",
            "layer name: encoder.layer.0.attention.output.LayerNorm.weight, require grad: True\n",
            "layer name: encoder.layer.0.attention.output.LayerNorm.bias, require grad: True\n",
            "layer name: encoder.layer.0.intermediate.dense.weight, require grad: True\n",
            "layer name: encoder.layer.0.intermediate.dense.bias, require grad: True\n",
            "layer name: encoder.layer.0.output.dense.weight, require grad: True\n",
            "layer name: encoder.layer.0.output.dense.bias, require grad: True\n",
            "layer name: encoder.layer.0.output.LayerNorm.weight, require grad: True\n",
            "layer name: encoder.layer.0.output.LayerNorm.bias, require grad: True\n",
            "layer name: encoder.layer.1.attention.self.query.weight, require grad: True\n",
            "layer name: encoder.layer.1.attention.self.query.bias, require grad: True\n",
            "layer name: encoder.layer.1.attention.self.key.weight, require grad: True\n",
            "layer name: encoder.layer.1.attention.self.key.bias, require grad: True\n",
            "layer name: encoder.layer.1.attention.self.value.weight, require grad: True\n",
            "layer name: encoder.layer.1.attention.self.value.bias, require grad: True\n",
            "layer name: encoder.layer.1.attention.output.dense.weight, require grad: True\n",
            "layer name: encoder.layer.1.attention.output.dense.bias, require grad: True\n",
            "layer name: encoder.layer.1.attention.output.LayerNorm.weight, require grad: True\n",
            "layer name: encoder.layer.1.attention.output.LayerNorm.bias, require grad: True\n",
            "layer name: encoder.layer.1.intermediate.dense.weight, require grad: True\n",
            "layer name: encoder.layer.1.intermediate.dense.bias, require grad: True\n",
            "layer name: encoder.layer.1.output.dense.weight, require grad: True\n",
            "layer name: encoder.layer.1.output.dense.bias, require grad: True\n",
            "layer name: encoder.layer.1.output.LayerNorm.weight, require grad: True\n",
            "layer name: encoder.layer.1.output.LayerNorm.bias, require grad: True\n",
            "layer name: encoder.layer.2.attention.self.query.weight, require grad: True\n",
            "layer name: encoder.layer.2.attention.self.query.bias, require grad: True\n",
            "layer name: encoder.layer.2.attention.self.key.weight, require grad: True\n",
            "layer name: encoder.layer.2.attention.self.key.bias, require grad: True\n",
            "layer name: encoder.layer.2.attention.self.value.weight, require grad: True\n",
            "layer name: encoder.layer.2.attention.self.value.bias, require grad: True\n",
            "layer name: encoder.layer.2.attention.output.dense.weight, require grad: True\n",
            "layer name: encoder.layer.2.attention.output.dense.bias, require grad: True\n",
            "layer name: encoder.layer.2.attention.output.LayerNorm.weight, require grad: True\n",
            "layer name: encoder.layer.2.attention.output.LayerNorm.bias, require grad: True\n",
            "layer name: encoder.layer.2.intermediate.dense.weight, require grad: True\n",
            "layer name: encoder.layer.2.intermediate.dense.bias, require grad: True\n",
            "layer name: encoder.layer.2.output.dense.weight, require grad: True\n",
            "layer name: encoder.layer.2.output.dense.bias, require grad: True\n",
            "layer name: encoder.layer.2.output.LayerNorm.weight, require grad: True\n",
            "layer name: encoder.layer.2.output.LayerNorm.bias, require grad: True\n",
            "layer name: encoder.layer.3.attention.self.query.weight, require grad: True\n",
            "layer name: encoder.layer.3.attention.self.query.bias, require grad: True\n",
            "layer name: encoder.layer.3.attention.self.key.weight, require grad: True\n",
            "layer name: encoder.layer.3.attention.self.key.bias, require grad: True\n",
            "layer name: encoder.layer.3.attention.self.value.weight, require grad: True\n",
            "layer name: encoder.layer.3.attention.self.value.bias, require grad: True\n",
            "layer name: encoder.layer.3.attention.output.dense.weight, require grad: True\n",
            "layer name: encoder.layer.3.attention.output.dense.bias, require grad: True\n",
            "layer name: encoder.layer.3.attention.output.LayerNorm.weight, require grad: True\n",
            "layer name: encoder.layer.3.attention.output.LayerNorm.bias, require grad: True\n",
            "layer name: encoder.layer.3.intermediate.dense.weight, require grad: True\n",
            "layer name: encoder.layer.3.intermediate.dense.bias, require grad: True\n",
            "layer name: encoder.layer.3.output.dense.weight, require grad: True\n",
            "layer name: encoder.layer.3.output.dense.bias, require grad: True\n",
            "layer name: encoder.layer.3.output.LayerNorm.weight, require grad: True\n",
            "layer name: encoder.layer.3.output.LayerNorm.bias, require grad: True\n",
            "layer name: encoder.layer.4.attention.self.query.weight, require grad: True\n",
            "layer name: encoder.layer.4.attention.self.query.bias, require grad: True\n",
            "layer name: encoder.layer.4.attention.self.key.weight, require grad: True\n",
            "layer name: encoder.layer.4.attention.self.key.bias, require grad: True\n",
            "layer name: encoder.layer.4.attention.self.value.weight, require grad: True\n",
            "layer name: encoder.layer.4.attention.self.value.bias, require grad: True\n",
            "layer name: encoder.layer.4.attention.output.dense.weight, require grad: True\n",
            "layer name: encoder.layer.4.attention.output.dense.bias, require grad: True\n",
            "layer name: encoder.layer.4.attention.output.LayerNorm.weight, require grad: True\n",
            "layer name: encoder.layer.4.attention.output.LayerNorm.bias, require grad: True\n",
            "layer name: encoder.layer.4.intermediate.dense.weight, require grad: True\n",
            "layer name: encoder.layer.4.intermediate.dense.bias, require grad: True\n",
            "layer name: encoder.layer.4.output.dense.weight, require grad: True\n",
            "layer name: encoder.layer.4.output.dense.bias, require grad: True\n",
            "layer name: encoder.layer.4.output.LayerNorm.weight, require grad: True\n",
            "layer name: encoder.layer.4.output.LayerNorm.bias, require grad: True\n",
            "layer name: encoder.layer.5.attention.self.query.weight, require grad: True\n",
            "layer name: encoder.layer.5.attention.self.query.bias, require grad: True\n",
            "layer name: encoder.layer.5.attention.self.key.weight, require grad: True\n",
            "layer name: encoder.layer.5.attention.self.key.bias, require grad: True\n",
            "layer name: encoder.layer.5.attention.self.value.weight, require grad: True\n",
            "layer name: encoder.layer.5.attention.self.value.bias, require grad: True\n",
            "layer name: encoder.layer.5.attention.output.dense.weight, require grad: True\n",
            "layer name: encoder.layer.5.attention.output.dense.bias, require grad: True\n",
            "layer name: encoder.layer.5.attention.output.LayerNorm.weight, require grad: True\n",
            "layer name: encoder.layer.5.attention.output.LayerNorm.bias, require grad: True\n",
            "layer name: encoder.layer.5.intermediate.dense.weight, require grad: True\n",
            "layer name: encoder.layer.5.intermediate.dense.bias, require grad: True\n",
            "layer name: encoder.layer.5.output.dense.weight, require grad: True\n",
            "layer name: encoder.layer.5.output.dense.bias, require grad: True\n",
            "layer name: encoder.layer.5.output.LayerNorm.weight, require grad: True\n",
            "layer name: encoder.layer.5.output.LayerNorm.bias, require grad: True\n",
            "layer name: encoder.layer.6.attention.self.query.weight, require grad: True\n",
            "layer name: encoder.layer.6.attention.self.query.bias, require grad: True\n",
            "layer name: encoder.layer.6.attention.self.key.weight, require grad: True\n",
            "layer name: encoder.layer.6.attention.self.key.bias, require grad: True\n",
            "layer name: encoder.layer.6.attention.self.value.weight, require grad: True\n",
            "layer name: encoder.layer.6.attention.self.value.bias, require grad: True\n",
            "layer name: encoder.layer.6.attention.output.dense.weight, require grad: True\n",
            "layer name: encoder.layer.6.attention.output.dense.bias, require grad: True\n",
            "layer name: encoder.layer.6.attention.output.LayerNorm.weight, require grad: True\n",
            "layer name: encoder.layer.6.attention.output.LayerNorm.bias, require grad: True\n",
            "layer name: encoder.layer.6.intermediate.dense.weight, require grad: True\n",
            "layer name: encoder.layer.6.intermediate.dense.bias, require grad: True\n",
            "layer name: encoder.layer.6.output.dense.weight, require grad: True\n",
            "layer name: encoder.layer.6.output.dense.bias, require grad: True\n",
            "layer name: encoder.layer.6.output.LayerNorm.weight, require grad: True\n",
            "layer name: encoder.layer.6.output.LayerNorm.bias, require grad: True\n",
            "layer name: encoder.layer.7.attention.self.query.weight, require grad: True\n",
            "layer name: encoder.layer.7.attention.self.query.bias, require grad: True\n",
            "layer name: encoder.layer.7.attention.self.key.weight, require grad: True\n",
            "layer name: encoder.layer.7.attention.self.key.bias, require grad: True\n",
            "layer name: encoder.layer.7.attention.self.value.weight, require grad: True\n",
            "layer name: encoder.layer.7.attention.self.value.bias, require grad: True\n",
            "layer name: encoder.layer.7.attention.output.dense.weight, require grad: True\n",
            "layer name: encoder.layer.7.attention.output.dense.bias, require grad: True\n",
            "layer name: encoder.layer.7.attention.output.LayerNorm.weight, require grad: True\n",
            "layer name: encoder.layer.7.attention.output.LayerNorm.bias, require grad: True\n",
            "layer name: encoder.layer.7.intermediate.dense.weight, require grad: True\n",
            "layer name: encoder.layer.7.intermediate.dense.bias, require grad: True\n",
            "layer name: encoder.layer.7.output.dense.weight, require grad: True\n",
            "layer name: encoder.layer.7.output.dense.bias, require grad: True\n",
            "layer name: encoder.layer.7.output.LayerNorm.weight, require grad: True\n",
            "layer name: encoder.layer.7.output.LayerNorm.bias, require grad: True\n",
            "layer name: encoder.layer.8.attention.self.query.weight, require grad: True\n",
            "layer name: encoder.layer.8.attention.self.query.bias, require grad: True\n",
            "layer name: encoder.layer.8.attention.self.key.weight, require grad: True\n",
            "layer name: encoder.layer.8.attention.self.key.bias, require grad: True\n",
            "layer name: encoder.layer.8.attention.self.value.weight, require grad: True\n",
            "layer name: encoder.layer.8.attention.self.value.bias, require grad: True\n",
            "layer name: encoder.layer.8.attention.output.dense.weight, require grad: True\n",
            "layer name: encoder.layer.8.attention.output.dense.bias, require grad: True\n",
            "layer name: encoder.layer.8.attention.output.LayerNorm.weight, require grad: True\n",
            "layer name: encoder.layer.8.attention.output.LayerNorm.bias, require grad: True\n",
            "layer name: encoder.layer.8.intermediate.dense.weight, require grad: True\n",
            "layer name: encoder.layer.8.intermediate.dense.bias, require grad: True\n",
            "layer name: encoder.layer.8.output.dense.weight, require grad: True\n",
            "layer name: encoder.layer.8.output.dense.bias, require grad: True\n",
            "layer name: encoder.layer.8.output.LayerNorm.weight, require grad: True\n",
            "layer name: encoder.layer.8.output.LayerNorm.bias, require grad: True\n",
            "layer name: encoder.layer.9.attention.self.query.weight, require grad: True\n",
            "layer name: encoder.layer.9.attention.self.query.bias, require grad: True\n",
            "layer name: encoder.layer.9.attention.self.key.weight, require grad: True\n",
            "layer name: encoder.layer.9.attention.self.key.bias, require grad: True\n",
            "layer name: encoder.layer.9.attention.self.value.weight, require grad: True\n",
            "layer name: encoder.layer.9.attention.self.value.bias, require grad: True\n",
            "layer name: encoder.layer.9.attention.output.dense.weight, require grad: True\n",
            "layer name: encoder.layer.9.attention.output.dense.bias, require grad: True\n",
            "layer name: encoder.layer.9.attention.output.LayerNorm.weight, require grad: True\n",
            "layer name: encoder.layer.9.attention.output.LayerNorm.bias, require grad: True\n",
            "layer name: encoder.layer.9.intermediate.dense.weight, require grad: True\n",
            "layer name: encoder.layer.9.intermediate.dense.bias, require grad: True\n",
            "layer name: encoder.layer.9.output.dense.weight, require grad: True\n",
            "layer name: encoder.layer.9.output.dense.bias, require grad: True\n",
            "layer name: encoder.layer.9.output.LayerNorm.weight, require grad: True\n",
            "layer name: encoder.layer.9.output.LayerNorm.bias, require grad: True\n",
            "layer name: encoder.layer.10.attention.self.query.weight, require grad: True\n",
            "layer name: encoder.layer.10.attention.self.query.bias, require grad: True\n",
            "layer name: encoder.layer.10.attention.self.key.weight, require grad: True\n",
            "layer name: encoder.layer.10.attention.self.key.bias, require grad: True\n",
            "layer name: encoder.layer.10.attention.self.value.weight, require grad: True\n",
            "layer name: encoder.layer.10.attention.self.value.bias, require grad: True\n",
            "layer name: encoder.layer.10.attention.output.dense.weight, require grad: True\n",
            "layer name: encoder.layer.10.attention.output.dense.bias, require grad: True\n",
            "layer name: encoder.layer.10.attention.output.LayerNorm.weight, require grad: True\n",
            "layer name: encoder.layer.10.attention.output.LayerNorm.bias, require grad: True\n",
            "layer name: encoder.layer.10.intermediate.dense.weight, require grad: True\n",
            "layer name: encoder.layer.10.intermediate.dense.bias, require grad: True\n",
            "layer name: encoder.layer.10.output.dense.weight, require grad: True\n",
            "layer name: encoder.layer.10.output.dense.bias, require grad: True\n",
            "layer name: encoder.layer.10.output.LayerNorm.weight, require grad: True\n",
            "layer name: encoder.layer.10.output.LayerNorm.bias, require grad: True\n",
            "layer name: encoder.layer.11.attention.self.query.weight, require grad: True\n",
            "layer name: encoder.layer.11.attention.self.query.bias, require grad: True\n",
            "layer name: encoder.layer.11.attention.self.key.weight, require grad: True\n",
            "layer name: encoder.layer.11.attention.self.key.bias, require grad: True\n",
            "layer name: encoder.layer.11.attention.self.value.weight, require grad: True\n",
            "layer name: encoder.layer.11.attention.self.value.bias, require grad: True\n",
            "layer name: encoder.layer.11.attention.output.dense.weight, require grad: True\n",
            "layer name: encoder.layer.11.attention.output.dense.bias, require grad: True\n",
            "layer name: encoder.layer.11.attention.output.LayerNorm.weight, require grad: True\n",
            "layer name: encoder.layer.11.attention.output.LayerNorm.bias, require grad: True\n",
            "layer name: encoder.layer.11.intermediate.dense.weight, require grad: True\n",
            "layer name: encoder.layer.11.intermediate.dense.bias, require grad: True\n",
            "layer name: encoder.layer.11.output.dense.weight, require grad: True\n",
            "layer name: encoder.layer.11.output.dense.bias, require grad: True\n",
            "layer name: encoder.layer.11.output.LayerNorm.weight, require grad: True\n",
            "layer name: encoder.layer.11.output.LayerNorm.bias, require grad: True\n",
            "layer name: pooler.dense.weight, require grad: True\n",
            "layer name: pooler.dense.bias, require grad: True\n"
          ],
          "name": "stdout"
        }
      ]
    },
    {
      "cell_type": "markdown",
      "metadata": {
        "id": "E4sVZMfCP32j"
      },
      "source": [
        "# Weight Retraining and Finetuning\n",
        "\n",
        "Note: All layers are set to `require grad: True` i.e trainable.\n",
        "\n",
        "- Now we want to freeze upto layers 0 to 9\n",
        "- retrain weights for layer 10 and 11"
      ]
    },
    {
      "cell_type": "code",
      "metadata": {
        "id": "SP7X7EUyzBC9"
      },
      "source": [
        "# freeze all the parameters except the last 1 layer\n",
        "for name, param in bert.named_parameters():\n",
        "    if 'layer.11' not in name and 'layer.10' not in name:\n",
        "        param.requires_grad = False"
      ],
      "execution_count": 261,
      "outputs": []
    },
    {
      "cell_type": "code",
      "metadata": {
        "colab": {
          "base_uri": "https://localhost:8080/"
        },
        "id": "LTq7Oz6v1XHc",
        "outputId": "b38a9c37-e78a-4e62-a23d-af7dfe8408cd"
      },
      "source": [
        "for name, param in bert.named_parameters():\n",
        "    print(f\"layer name: {name}, require grad: {param.requires_grad}\")"
      ],
      "execution_count": 262,
      "outputs": [
        {
          "output_type": "stream",
          "text": [
            "layer name: embeddings.word_embeddings.weight, require grad: False\n",
            "layer name: embeddings.position_embeddings.weight, require grad: False\n",
            "layer name: embeddings.token_type_embeddings.weight, require grad: False\n",
            "layer name: embeddings.LayerNorm.weight, require grad: False\n",
            "layer name: embeddings.LayerNorm.bias, require grad: False\n",
            "layer name: encoder.layer.0.attention.self.query.weight, require grad: False\n",
            "layer name: encoder.layer.0.attention.self.query.bias, require grad: False\n",
            "layer name: encoder.layer.0.attention.self.key.weight, require grad: False\n",
            "layer name: encoder.layer.0.attention.self.key.bias, require grad: False\n",
            "layer name: encoder.layer.0.attention.self.value.weight, require grad: False\n",
            "layer name: encoder.layer.0.attention.self.value.bias, require grad: False\n",
            "layer name: encoder.layer.0.attention.output.dense.weight, require grad: False\n",
            "layer name: encoder.layer.0.attention.output.dense.bias, require grad: False\n",
            "layer name: encoder.layer.0.attention.output.LayerNorm.weight, require grad: False\n",
            "layer name: encoder.layer.0.attention.output.LayerNorm.bias, require grad: False\n",
            "layer name: encoder.layer.0.intermediate.dense.weight, require grad: False\n",
            "layer name: encoder.layer.0.intermediate.dense.bias, require grad: False\n",
            "layer name: encoder.layer.0.output.dense.weight, require grad: False\n",
            "layer name: encoder.layer.0.output.dense.bias, require grad: False\n",
            "layer name: encoder.layer.0.output.LayerNorm.weight, require grad: False\n",
            "layer name: encoder.layer.0.output.LayerNorm.bias, require grad: False\n",
            "layer name: encoder.layer.1.attention.self.query.weight, require grad: False\n",
            "layer name: encoder.layer.1.attention.self.query.bias, require grad: False\n",
            "layer name: encoder.layer.1.attention.self.key.weight, require grad: False\n",
            "layer name: encoder.layer.1.attention.self.key.bias, require grad: False\n",
            "layer name: encoder.layer.1.attention.self.value.weight, require grad: False\n",
            "layer name: encoder.layer.1.attention.self.value.bias, require grad: False\n",
            "layer name: encoder.layer.1.attention.output.dense.weight, require grad: False\n",
            "layer name: encoder.layer.1.attention.output.dense.bias, require grad: False\n",
            "layer name: encoder.layer.1.attention.output.LayerNorm.weight, require grad: False\n",
            "layer name: encoder.layer.1.attention.output.LayerNorm.bias, require grad: False\n",
            "layer name: encoder.layer.1.intermediate.dense.weight, require grad: False\n",
            "layer name: encoder.layer.1.intermediate.dense.bias, require grad: False\n",
            "layer name: encoder.layer.1.output.dense.weight, require grad: False\n",
            "layer name: encoder.layer.1.output.dense.bias, require grad: False\n",
            "layer name: encoder.layer.1.output.LayerNorm.weight, require grad: False\n",
            "layer name: encoder.layer.1.output.LayerNorm.bias, require grad: False\n",
            "layer name: encoder.layer.2.attention.self.query.weight, require grad: False\n",
            "layer name: encoder.layer.2.attention.self.query.bias, require grad: False\n",
            "layer name: encoder.layer.2.attention.self.key.weight, require grad: False\n",
            "layer name: encoder.layer.2.attention.self.key.bias, require grad: False\n",
            "layer name: encoder.layer.2.attention.self.value.weight, require grad: False\n",
            "layer name: encoder.layer.2.attention.self.value.bias, require grad: False\n",
            "layer name: encoder.layer.2.attention.output.dense.weight, require grad: False\n",
            "layer name: encoder.layer.2.attention.output.dense.bias, require grad: False\n",
            "layer name: encoder.layer.2.attention.output.LayerNorm.weight, require grad: False\n",
            "layer name: encoder.layer.2.attention.output.LayerNorm.bias, require grad: False\n",
            "layer name: encoder.layer.2.intermediate.dense.weight, require grad: False\n",
            "layer name: encoder.layer.2.intermediate.dense.bias, require grad: False\n",
            "layer name: encoder.layer.2.output.dense.weight, require grad: False\n",
            "layer name: encoder.layer.2.output.dense.bias, require grad: False\n",
            "layer name: encoder.layer.2.output.LayerNorm.weight, require grad: False\n",
            "layer name: encoder.layer.2.output.LayerNorm.bias, require grad: False\n",
            "layer name: encoder.layer.3.attention.self.query.weight, require grad: False\n",
            "layer name: encoder.layer.3.attention.self.query.bias, require grad: False\n",
            "layer name: encoder.layer.3.attention.self.key.weight, require grad: False\n",
            "layer name: encoder.layer.3.attention.self.key.bias, require grad: False\n",
            "layer name: encoder.layer.3.attention.self.value.weight, require grad: False\n",
            "layer name: encoder.layer.3.attention.self.value.bias, require grad: False\n",
            "layer name: encoder.layer.3.attention.output.dense.weight, require grad: False\n",
            "layer name: encoder.layer.3.attention.output.dense.bias, require grad: False\n",
            "layer name: encoder.layer.3.attention.output.LayerNorm.weight, require grad: False\n",
            "layer name: encoder.layer.3.attention.output.LayerNorm.bias, require grad: False\n",
            "layer name: encoder.layer.3.intermediate.dense.weight, require grad: False\n",
            "layer name: encoder.layer.3.intermediate.dense.bias, require grad: False\n",
            "layer name: encoder.layer.3.output.dense.weight, require grad: False\n",
            "layer name: encoder.layer.3.output.dense.bias, require grad: False\n",
            "layer name: encoder.layer.3.output.LayerNorm.weight, require grad: False\n",
            "layer name: encoder.layer.3.output.LayerNorm.bias, require grad: False\n",
            "layer name: encoder.layer.4.attention.self.query.weight, require grad: False\n",
            "layer name: encoder.layer.4.attention.self.query.bias, require grad: False\n",
            "layer name: encoder.layer.4.attention.self.key.weight, require grad: False\n",
            "layer name: encoder.layer.4.attention.self.key.bias, require grad: False\n",
            "layer name: encoder.layer.4.attention.self.value.weight, require grad: False\n",
            "layer name: encoder.layer.4.attention.self.value.bias, require grad: False\n",
            "layer name: encoder.layer.4.attention.output.dense.weight, require grad: False\n",
            "layer name: encoder.layer.4.attention.output.dense.bias, require grad: False\n",
            "layer name: encoder.layer.4.attention.output.LayerNorm.weight, require grad: False\n",
            "layer name: encoder.layer.4.attention.output.LayerNorm.bias, require grad: False\n",
            "layer name: encoder.layer.4.intermediate.dense.weight, require grad: False\n",
            "layer name: encoder.layer.4.intermediate.dense.bias, require grad: False\n",
            "layer name: encoder.layer.4.output.dense.weight, require grad: False\n",
            "layer name: encoder.layer.4.output.dense.bias, require grad: False\n",
            "layer name: encoder.layer.4.output.LayerNorm.weight, require grad: False\n",
            "layer name: encoder.layer.4.output.LayerNorm.bias, require grad: False\n",
            "layer name: encoder.layer.5.attention.self.query.weight, require grad: False\n",
            "layer name: encoder.layer.5.attention.self.query.bias, require grad: False\n",
            "layer name: encoder.layer.5.attention.self.key.weight, require grad: False\n",
            "layer name: encoder.layer.5.attention.self.key.bias, require grad: False\n",
            "layer name: encoder.layer.5.attention.self.value.weight, require grad: False\n",
            "layer name: encoder.layer.5.attention.self.value.bias, require grad: False\n",
            "layer name: encoder.layer.5.attention.output.dense.weight, require grad: False\n",
            "layer name: encoder.layer.5.attention.output.dense.bias, require grad: False\n",
            "layer name: encoder.layer.5.attention.output.LayerNorm.weight, require grad: False\n",
            "layer name: encoder.layer.5.attention.output.LayerNorm.bias, require grad: False\n",
            "layer name: encoder.layer.5.intermediate.dense.weight, require grad: False\n",
            "layer name: encoder.layer.5.intermediate.dense.bias, require grad: False\n",
            "layer name: encoder.layer.5.output.dense.weight, require grad: False\n",
            "layer name: encoder.layer.5.output.dense.bias, require grad: False\n",
            "layer name: encoder.layer.5.output.LayerNorm.weight, require grad: False\n",
            "layer name: encoder.layer.5.output.LayerNorm.bias, require grad: False\n",
            "layer name: encoder.layer.6.attention.self.query.weight, require grad: False\n",
            "layer name: encoder.layer.6.attention.self.query.bias, require grad: False\n",
            "layer name: encoder.layer.6.attention.self.key.weight, require grad: False\n",
            "layer name: encoder.layer.6.attention.self.key.bias, require grad: False\n",
            "layer name: encoder.layer.6.attention.self.value.weight, require grad: False\n",
            "layer name: encoder.layer.6.attention.self.value.bias, require grad: False\n",
            "layer name: encoder.layer.6.attention.output.dense.weight, require grad: False\n",
            "layer name: encoder.layer.6.attention.output.dense.bias, require grad: False\n",
            "layer name: encoder.layer.6.attention.output.LayerNorm.weight, require grad: False\n",
            "layer name: encoder.layer.6.attention.output.LayerNorm.bias, require grad: False\n",
            "layer name: encoder.layer.6.intermediate.dense.weight, require grad: False\n",
            "layer name: encoder.layer.6.intermediate.dense.bias, require grad: False\n",
            "layer name: encoder.layer.6.output.dense.weight, require grad: False\n",
            "layer name: encoder.layer.6.output.dense.bias, require grad: False\n",
            "layer name: encoder.layer.6.output.LayerNorm.weight, require grad: False\n",
            "layer name: encoder.layer.6.output.LayerNorm.bias, require grad: False\n",
            "layer name: encoder.layer.7.attention.self.query.weight, require grad: False\n",
            "layer name: encoder.layer.7.attention.self.query.bias, require grad: False\n",
            "layer name: encoder.layer.7.attention.self.key.weight, require grad: False\n",
            "layer name: encoder.layer.7.attention.self.key.bias, require grad: False\n",
            "layer name: encoder.layer.7.attention.self.value.weight, require grad: False\n",
            "layer name: encoder.layer.7.attention.self.value.bias, require grad: False\n",
            "layer name: encoder.layer.7.attention.output.dense.weight, require grad: False\n",
            "layer name: encoder.layer.7.attention.output.dense.bias, require grad: False\n",
            "layer name: encoder.layer.7.attention.output.LayerNorm.weight, require grad: False\n",
            "layer name: encoder.layer.7.attention.output.LayerNorm.bias, require grad: False\n",
            "layer name: encoder.layer.7.intermediate.dense.weight, require grad: False\n",
            "layer name: encoder.layer.7.intermediate.dense.bias, require grad: False\n",
            "layer name: encoder.layer.7.output.dense.weight, require grad: False\n",
            "layer name: encoder.layer.7.output.dense.bias, require grad: False\n",
            "layer name: encoder.layer.7.output.LayerNorm.weight, require grad: False\n",
            "layer name: encoder.layer.7.output.LayerNorm.bias, require grad: False\n",
            "layer name: encoder.layer.8.attention.self.query.weight, require grad: False\n",
            "layer name: encoder.layer.8.attention.self.query.bias, require grad: False\n",
            "layer name: encoder.layer.8.attention.self.key.weight, require grad: False\n",
            "layer name: encoder.layer.8.attention.self.key.bias, require grad: False\n",
            "layer name: encoder.layer.8.attention.self.value.weight, require grad: False\n",
            "layer name: encoder.layer.8.attention.self.value.bias, require grad: False\n",
            "layer name: encoder.layer.8.attention.output.dense.weight, require grad: False\n",
            "layer name: encoder.layer.8.attention.output.dense.bias, require grad: False\n",
            "layer name: encoder.layer.8.attention.output.LayerNorm.weight, require grad: False\n",
            "layer name: encoder.layer.8.attention.output.LayerNorm.bias, require grad: False\n",
            "layer name: encoder.layer.8.intermediate.dense.weight, require grad: False\n",
            "layer name: encoder.layer.8.intermediate.dense.bias, require grad: False\n",
            "layer name: encoder.layer.8.output.dense.weight, require grad: False\n",
            "layer name: encoder.layer.8.output.dense.bias, require grad: False\n",
            "layer name: encoder.layer.8.output.LayerNorm.weight, require grad: False\n",
            "layer name: encoder.layer.8.output.LayerNorm.bias, require grad: False\n",
            "layer name: encoder.layer.9.attention.self.query.weight, require grad: False\n",
            "layer name: encoder.layer.9.attention.self.query.bias, require grad: False\n",
            "layer name: encoder.layer.9.attention.self.key.weight, require grad: False\n",
            "layer name: encoder.layer.9.attention.self.key.bias, require grad: False\n",
            "layer name: encoder.layer.9.attention.self.value.weight, require grad: False\n",
            "layer name: encoder.layer.9.attention.self.value.bias, require grad: False\n",
            "layer name: encoder.layer.9.attention.output.dense.weight, require grad: False\n",
            "layer name: encoder.layer.9.attention.output.dense.bias, require grad: False\n",
            "layer name: encoder.layer.9.attention.output.LayerNorm.weight, require grad: False\n",
            "layer name: encoder.layer.9.attention.output.LayerNorm.bias, require grad: False\n",
            "layer name: encoder.layer.9.intermediate.dense.weight, require grad: False\n",
            "layer name: encoder.layer.9.intermediate.dense.bias, require grad: False\n",
            "layer name: encoder.layer.9.output.dense.weight, require grad: False\n",
            "layer name: encoder.layer.9.output.dense.bias, require grad: False\n",
            "layer name: encoder.layer.9.output.LayerNorm.weight, require grad: False\n",
            "layer name: encoder.layer.9.output.LayerNorm.bias, require grad: False\n",
            "layer name: encoder.layer.10.attention.self.query.weight, require grad: True\n",
            "layer name: encoder.layer.10.attention.self.query.bias, require grad: True\n",
            "layer name: encoder.layer.10.attention.self.key.weight, require grad: True\n",
            "layer name: encoder.layer.10.attention.self.key.bias, require grad: True\n",
            "layer name: encoder.layer.10.attention.self.value.weight, require grad: True\n",
            "layer name: encoder.layer.10.attention.self.value.bias, require grad: True\n",
            "layer name: encoder.layer.10.attention.output.dense.weight, require grad: True\n",
            "layer name: encoder.layer.10.attention.output.dense.bias, require grad: True\n",
            "layer name: encoder.layer.10.attention.output.LayerNorm.weight, require grad: True\n",
            "layer name: encoder.layer.10.attention.output.LayerNorm.bias, require grad: True\n",
            "layer name: encoder.layer.10.intermediate.dense.weight, require grad: True\n",
            "layer name: encoder.layer.10.intermediate.dense.bias, require grad: True\n",
            "layer name: encoder.layer.10.output.dense.weight, require grad: True\n",
            "layer name: encoder.layer.10.output.dense.bias, require grad: True\n",
            "layer name: encoder.layer.10.output.LayerNorm.weight, require grad: True\n",
            "layer name: encoder.layer.10.output.LayerNorm.bias, require grad: True\n",
            "layer name: encoder.layer.11.attention.self.query.weight, require grad: True\n",
            "layer name: encoder.layer.11.attention.self.query.bias, require grad: True\n",
            "layer name: encoder.layer.11.attention.self.key.weight, require grad: True\n",
            "layer name: encoder.layer.11.attention.self.key.bias, require grad: True\n",
            "layer name: encoder.layer.11.attention.self.value.weight, require grad: True\n",
            "layer name: encoder.layer.11.attention.self.value.bias, require grad: True\n",
            "layer name: encoder.layer.11.attention.output.dense.weight, require grad: True\n",
            "layer name: encoder.layer.11.attention.output.dense.bias, require grad: True\n",
            "layer name: encoder.layer.11.attention.output.LayerNorm.weight, require grad: True\n",
            "layer name: encoder.layer.11.attention.output.LayerNorm.bias, require grad: True\n",
            "layer name: encoder.layer.11.intermediate.dense.weight, require grad: True\n",
            "layer name: encoder.layer.11.intermediate.dense.bias, require grad: True\n",
            "layer name: encoder.layer.11.output.dense.weight, require grad: True\n",
            "layer name: encoder.layer.11.output.dense.bias, require grad: True\n",
            "layer name: encoder.layer.11.output.LayerNorm.weight, require grad: True\n",
            "layer name: encoder.layer.11.output.LayerNorm.bias, require grad: True\n",
            "layer name: pooler.dense.weight, require grad: False\n",
            "layer name: pooler.dense.bias, require grad: False\n"
          ],
          "name": "stdout"
        }
      ]
    },
    {
      "cell_type": "markdown",
      "metadata": {
        "id": "NUo-BqUcTpFr"
      },
      "source": [
        "# Design architecture"
      ]
    },
    {
      "cell_type": "markdown",
      "metadata": {
        "id": "Q_nkBH18UAbM"
      },
      "source": [
        "## Define model"
      ]
    },
    {
      "cell_type": "code",
      "metadata": {
        "id": "kyCq9b6p227b"
      },
      "source": [
        "class BERT_Arch(nn.Module):\n",
        "\n",
        "    def __init__(self, bert):\n",
        "      \n",
        "      super(BERT_Arch, self).__init__()\n",
        "\n",
        "      self.bert = bert \n",
        "      \n",
        "      # dropout layer\n",
        "      self.dropout = nn.Dropout(0.1)\n",
        "      \n",
        "      # relu activation function\n",
        "      self.relu =  nn.ReLU()\n",
        "\n",
        "      # dense layer 1\n",
        "      self.fc1 = nn.Linear(768,512)\n",
        "      \n",
        "      # dense layer 2 (Output layer)\n",
        "      self.fc2 = nn.Linear(512,2)\n",
        "\n",
        "      #softmax activation function\n",
        "      self.softmax = nn.LogSoftmax(dim=1)\n",
        "\n",
        "    #define the forward pass\n",
        "    def forward(self, sent_id, mask, token_type_ids):\n",
        "\n",
        "      #pass the inputs to the model  \n",
        "      z = self.bert(sent_id, attention_mask=mask, token_type_ids=token_type_ids)\n",
        "      \n",
        "      x = self.fc1(z[1])\n",
        "\n",
        "      x = self.relu(x)\n",
        "\n",
        "      x = self.dropout(x)\n",
        "\n",
        "      # output layer\n",
        "      x = self.fc2(x)\n",
        "      \n",
        "      # apply softmax activation\n",
        "      x = self.softmax(x)\n",
        "\n",
        "      return x"
      ],
      "execution_count": 263,
      "outputs": []
    },
    {
      "cell_type": "code",
      "metadata": {
        "id": "KKNrNo1b3FHy"
      },
      "source": [
        "# pass the pre-trained BERT to our define architecture\n",
        "model = BERT_Arch(bert)\n",
        "\n",
        "# push the model to GPU\n",
        "model = model.to(device)"
      ],
      "execution_count": 264,
      "outputs": []
    },
    {
      "cell_type": "markdown",
      "metadata": {
        "id": "BZhyI9o_Tumo"
      },
      "source": [
        "## Set optimizer"
      ]
    },
    {
      "cell_type": "code",
      "metadata": {
        "id": "nZtoy3l23Iht"
      },
      "source": [
        "from transformers import AdamW"
      ],
      "execution_count": 265,
      "outputs": []
    },
    {
      "cell_type": "markdown",
      "metadata": {
        "id": "VOFYlawFVEhS"
      },
      "source": [
        "### Choose weight decay"
      ]
    },
    {
      "cell_type": "code",
      "metadata": {
        "id": "YpvntILm3V0q"
      },
      "source": [
        "param_optimizer = list(model.named_parameters())\n",
        "no_decay = [\"bias\", \"LayerNorm.bias\", \"LayerNorm.weight\"]\n",
        "optimizer_parameters = [\n",
        "    {\n",
        "        \"params\": [\n",
        "            p for n, p in param_optimizer if not any(nd in n for nd in no_decay)\n",
        "        ],\n",
        "        \"weight_decay\": 0.001,\n",
        "    },\n",
        "    {\n",
        "        \"params\": [\n",
        "            p for n, p in param_optimizer if any(nd in n for nd in no_decay)\n",
        "        ],\n",
        "        \"weight_decay\": 0.0,\n",
        "    },\n",
        "]"
      ],
      "execution_count": 266,
      "outputs": []
    },
    {
      "cell_type": "code",
      "metadata": {
        "id": "9HDFsl6DJwwS"
      },
      "source": [
        "optimizer = AdamW(optimizer_parameters, lr=3e-5)"
      ],
      "execution_count": 267,
      "outputs": []
    },
    {
      "cell_type": "code",
      "metadata": {
        "colab": {
          "base_uri": "https://localhost:8080/"
        },
        "id": "5GI3wJfN3koH",
        "outputId": "e73d2ff1-2b31-40ea-b66f-6be8543cd0f3"
      },
      "source": [
        "from sklearn.utils.class_weight import compute_class_weight\n",
        "\n",
        "#compute the class weights\n",
        "class_weights = compute_class_weight('balanced', np.unique(train_labels), train_labels)\n",
        "\n",
        "print(\"Class Weights:\",class_weights)"
      ],
      "execution_count": 268,
      "outputs": [
        {
          "output_type": "stream",
          "text": [
            "Class Weights: [0.57743559 3.72848948]\n"
          ],
          "name": "stdout"
        }
      ]
    },
    {
      "cell_type": "markdown",
      "metadata": {
        "id": "w11hW6U7TzFE"
      },
      "source": [
        "## Define loss function"
      ]
    },
    {
      "cell_type": "code",
      "metadata": {
        "id": "E9DAywHp3rNy"
      },
      "source": [
        "# converting list of class weights to a tensor\n",
        "weights= torch.tensor(class_weights,dtype=torch.float)\n",
        "\n",
        "# push to GPU\n",
        "weights = weights.to(device)\n",
        "\n",
        "# define the loss function\n",
        "cross_entropy  = nn.NLLLoss(weight=weights) \n",
        "\n"
      ],
      "execution_count": 269,
      "outputs": []
    },
    {
      "cell_type": "markdown",
      "metadata": {
        "id": "8fpnaOKLT6tk"
      },
      "source": [
        "## Train function"
      ]
    },
    {
      "cell_type": "code",
      "metadata": {
        "id": "EMFawuSh39R3"
      },
      "source": [
        "# function to train the model\n",
        "def train():\n",
        "  \n",
        "  model.train()\n",
        "\n",
        "  total_loss, total_accuracy = 0, 0\n",
        "  \n",
        "  # empty list to save model predictions\n",
        "  total_preds=[]\n",
        "  \n",
        "  # iterate over batches\n",
        "  for step,batch in enumerate(train_dataloader):\n",
        "    \n",
        "    # progress update after every 50 batches.\n",
        "    if step % 50 == 0 and not step == 0:\n",
        "      print('\\t\\t Batch {:>5,}  of  {:>5,}.'.format(step, len(train_dataloader)))\n",
        "\n",
        "    # push the batch to gpu\n",
        "    batch = [r.to(device) for r in batch]\n",
        " \n",
        "    sent_id, mask, token_type_ids, labels = batch\n",
        "\n",
        "    # clear previously calculated gradients \n",
        "    model.zero_grad()        \n",
        "\n",
        "    # get model predictions for the current batch\n",
        "    preds = model(sent_id, mask, token_type_ids)\n",
        "\n",
        "    # compute the loss between actual and predicted values\n",
        "    loss = cross_entropy(preds, labels)\n",
        "\n",
        "    # add on to the total loss\n",
        "    total_loss = total_loss + loss.item()\n",
        "\n",
        "    # backward pass to calculate the gradients\n",
        "    loss.backward()\n",
        "\n",
        "    # clip the the gradients to 1.0. It helps in preventing the exploding gradient problem\n",
        "    torch.nn.utils.clip_grad_norm_(model.parameters(), 1.0)\n",
        "\n",
        "    # update parameters\n",
        "    optimizer.step()\n",
        "\n",
        "    # model predictions are stored on GPU. So, push it to CPU\n",
        "    preds=preds.detach().cpu().numpy()\n",
        "\n",
        "    # append the model predictions\n",
        "    total_preds.append(preds)\n",
        "\n",
        "  # compute the training loss of the epoch\n",
        "  avg_loss = total_loss / len(train_dataloader)\n",
        "  \n",
        "  # predictions are in the form of (no. of batches, size of batch, no. of classes).\n",
        "  # reshape the predictions in form of (number of samples, no. of classes)\n",
        "  total_preds  = np.concatenate(total_preds, axis=0)\n",
        "\n",
        "  #returns the loss and predictions\n",
        "  return avg_loss, total_preds\n"
      ],
      "execution_count": 279,
      "outputs": []
    },
    {
      "cell_type": "markdown",
      "metadata": {
        "id": "MVhieepSUDHi"
      },
      "source": [
        "## Evaluate function"
      ]
    },
    {
      "cell_type": "code",
      "metadata": {
        "id": "im2krXFs4DXj"
      },
      "source": [
        "# function for evaluating the model\n",
        "def evaluate():\n",
        "  \n",
        "  print(\"\\t ++ Evaluating...\")\n",
        "  \n",
        "  # deactivate dropout layers\n",
        "  model.eval()\n",
        "\n",
        "  total_loss, total_accuracy = 0, 0\n",
        "  \n",
        "  # empty list to save the model predictions\n",
        "  total_preds = []\n",
        "\n",
        "  # iterate over batches\n",
        "  for step,batch in enumerate(val_dataloader):\n",
        "    \n",
        "    # Progress update every 50 batches.\n",
        "    if step % 50 == 0 and not step == 0:\n",
        "      \n",
        "      # Calculate elapsed time in minutes.\n",
        "      elapsed = format_time(time.time() - t0)\n",
        "            \n",
        "      # Report progress.\n",
        "      print('\\t\\t Batch {:>5,}  of  {:>5,}.'.format(step, len(val_dataloader)))\n",
        "\n",
        "    # push the batch to gpu\n",
        "    batch = [t.to(device) for t in batch]\n",
        "\n",
        "    sent_id, mask,token_type_ids, labels = batch\n",
        "\n",
        "    # deactivate autograd\n",
        "    with torch.no_grad():\n",
        "      \n",
        "      # model predictions\n",
        "      preds = model(sent_id, mask, token_type_ids)\n",
        "\n",
        "      # compute the validation loss between actual and predicted values\n",
        "      loss = cross_entropy(preds,labels)\n",
        "\n",
        "      total_loss = total_loss + loss.item()\n",
        "\n",
        "      preds = preds.detach().cpu().numpy()\n",
        "\n",
        "      total_preds.append(preds)\n",
        "\n",
        "  # compute the validation loss of the epoch\n",
        "  avg_loss = total_loss / len(val_dataloader) \n",
        "\n",
        "  # reshape the predictions in form of (number of samples, no. of classes)\n",
        "  total_preds  = np.concatenate(total_preds, axis=0)\n",
        "  return avg_loss, total_preds"
      ],
      "execution_count": 280,
      "outputs": []
    },
    {
      "cell_type": "code",
      "metadata": {
        "id": "YSzSA3YR4419"
      },
      "source": [
        "from time import time"
      ],
      "execution_count": 281,
      "outputs": []
    },
    {
      "cell_type": "code",
      "metadata": {
        "id": "A6_s2NjA5SGj"
      },
      "source": [
        "import numpy as np"
      ],
      "execution_count": 284,
      "outputs": []
    },
    {
      "cell_type": "markdown",
      "metadata": {
        "id": "nqT9vAfjUIIh"
      },
      "source": [
        "# Train loop"
      ]
    },
    {
      "cell_type": "code",
      "metadata": {
        "colab": {
          "base_uri": "https://localhost:8080/"
        },
        "id": "esVsWsB_4KcB",
        "outputId": "8366f6b1-534e-45e2-d9f2-09ef5a2c2891"
      },
      "source": [
        "# set initial loss to infinite\n",
        "best_valid_loss = float('inf')\n",
        "\n",
        "# number of training epochs\n",
        "epochs = 3\n",
        "\n",
        "# empty lists to store training and validation loss of each epoch\n",
        "train_losses=[]\n",
        "valid_losses=[]\n",
        "\n",
        "#for each epoch\n",
        "for epoch in range(epochs):\n",
        "     \n",
        "    print('=====> Epoch {:} / {:}'.format(epoch + 1, epochs))\n",
        "    \n",
        "    start_time = time()\n",
        "    #train model\n",
        "    train_loss, _ = train()\n",
        "    end_time = time()\n",
        "    print(f\"\\t >> Training time taken: {np.round((end_time - start_time), 2)} seconds\")\n",
        "\n",
        "    #evaluate model\n",
        "\n",
        "    start_time = time()\n",
        "    valid_loss, _ = evaluate()\n",
        "    end_time = time()\n",
        "    print(f\"\\t >> Evaluation time taken: {np.round((end_time - start_time), 2)} seconds\")\n",
        "\n",
        "    \n",
        "    \n",
        "    #save the best model\n",
        "    if valid_loss < best_valid_loss:\n",
        "        best_valid_loss = valid_loss\n",
        "        torch.save(model.state_dict(), 'saved_weights.pt')\n",
        "    \n",
        "    # append training and validation loss\n",
        "    train_losses.append(train_loss)\n",
        "    valid_losses.append(valid_loss)\n",
        "    \n",
        "    print(f'\\t >> Training Loss: {train_loss:.3f}')\n",
        "    print(f'\\t >> Validation Loss: {valid_loss:.3f}')\n"
      ],
      "execution_count": 285,
      "outputs": [
        {
          "output_type": "stream",
          "text": [
            "=====> Epoch 1 / 3\n",
            "\t\t Batch    50  of    122.\n",
            "\t\t Batch   100  of    122.\n",
            "\t >> Training time taken: 7.9 seconds\n",
            "\t ++ Evaluating...\n",
            "\t >> Evaluation time taken: 1.21 seconds\n",
            "\t >> Training Loss: 0.284\n",
            "\t >> Validation Loss: 0.148\n",
            "=====> Epoch 2 / 3\n",
            "\t\t Batch    50  of    122.\n",
            "\t\t Batch   100  of    122.\n",
            "\t >> Training time taken: 7.88 seconds\n",
            "\t ++ Evaluating...\n",
            "\t >> Evaluation time taken: 1.23 seconds\n",
            "\t >> Training Loss: 0.109\n",
            "\t >> Validation Loss: 0.072\n",
            "=====> Epoch 3 / 3\n",
            "\t\t Batch    50  of    122.\n",
            "\t\t Batch   100  of    122.\n",
            "\t >> Training time taken: 7.93 seconds\n",
            "\t ++ Evaluating...\n",
            "\t >> Evaluation time taken: 1.25 seconds\n",
            "\t >> Training Loss: 0.081\n",
            "\t >> Validation Loss: 0.083\n"
          ],
          "name": "stdout"
        }
      ]
    },
    {
      "cell_type": "markdown",
      "metadata": {
        "id": "3ZyhjrMLUK9I"
      },
      "source": [
        "# Performance"
      ]
    },
    {
      "cell_type": "code",
      "metadata": {
        "id": "OrojWdJy6k5p"
      },
      "source": [
        "%matplotlib inline\n",
        "from matplotlib import pyplot as plt"
      ],
      "execution_count": 286,
      "outputs": []
    },
    {
      "cell_type": "code",
      "metadata": {
        "colab": {
          "base_uri": "https://localhost:8080/",
          "height": 295
        },
        "id": "m6grVhzDMnhz",
        "outputId": "2d9e279e-1af7-4d19-dbb0-04b2fd38cb06"
      },
      "source": [
        "plt.plot(train_losses, label=\"train\")\n",
        "plt.plot(valid_losses, label=\"val\")\n",
        "plt.title(\"Loss vs Epoch\")\n",
        "plt.xlabel(\"Epochs\")\n",
        "plt.ylabel(\"Loss\")\n",
        "plt.grid(alpha=0.3)\n",
        "plt.legend()\n",
        "plt.show()"
      ],
      "execution_count": 287,
      "outputs": [
        {
          "output_type": "display_data",
          "data": {
            "image/png": "[encoded data removed]",
            "text/plain": [
              "<Figure size 432x288 with 1 Axes>"
            ]
          },
          "metadata": {
            "tags": [],
            "needs_background": "light"
          }
        }
      ]
    },
    {
      "cell_type": "markdown",
      "metadata": {
        "id": "h7e5CdkmUOmA"
      },
      "source": [
        "# Prediction"
      ]
    },
    {
      "cell_type": "code",
      "metadata": {
        "colab": {
          "base_uri": "https://localhost:8080/"
        },
        "id": "CnY8p4zrMxtq",
        "outputId": "39e0fb7e-d014-477d-c440-0ecd869c2524"
      },
      "source": [
        "#load weights of best model\n",
        "path = 'saved_weights.pt'\n",
        "model.load_state_dict(torch.load(path))"
      ],
      "execution_count": 288,
      "outputs": [
        {
          "output_type": "execute_result",
          "data": {
            "text/plain": [
              "<All keys matched successfully>"
            ]
          },
          "metadata": {
            "tags": []
          },
          "execution_count": 288
        }
      ]
    },
    {
      "cell_type": "code",
      "metadata": {
        "id": "KGwhDqTgOb5m"
      },
      "source": [
        "# get predictions for test data\n",
        "with torch.no_grad():\n",
        "  preds = model(test_seq.to(device), test_mask.to(device), test_token_ids.to(device))\n",
        "  preds = preds.detach().cpu().numpy()"
      ],
      "execution_count": 290,
      "outputs": []
    },
    {
      "cell_type": "code",
      "metadata": {
        "colab": {
          "base_uri": "https://localhost:8080/"
        },
        "id": "uALdT6-2OjrH",
        "outputId": "3647a3f1-de79-433b-ea75-2e4d8dc4af20"
      },
      "source": [
        "preds = np.argmax(preds, axis = 1)\n",
        "print(classification_report(test_y, preds))"
      ],
      "execution_count": 291,
      "outputs": [
        {
          "output_type": "stream",
          "text": [
            "              precision    recall  f1-score   support\n",
            "\n",
            "           0       0.99      0.99      0.99       724\n",
            "           1       0.92      0.95      0.93       112\n",
            "\n",
            "    accuracy                           0.98       836\n",
            "   macro avg       0.96      0.97      0.96       836\n",
            "weighted avg       0.98      0.98      0.98       836\n",
            "\n"
          ],
          "name": "stdout"
        }
      ]
    },
    {
      "cell_type": "markdown",
      "metadata": {
        "id": "ccA3Sc5rUVXt"
      },
      "source": [
        "- Surprisingly the **second** finetuning approach (partial freezing of original architecture)has beaten the **third** approach (total freezing of entire network) as seen in the original blog, from where we have taken this example. Here is the reslt from the [blog site](https://www.analyticsvidhya.com/blog/2020/07/transfer-learning-for-nlp-fine-tuning-bert-for-text-classification/)\n",
        "\n",
        "![image](https://cdn.analyticsvidhya.com/wp-content/uploads/2020/07/bert_performance.png)"
      ]
    },
    {
      "cell_type": "code",
      "metadata": {
        "id": "zpZYaBvwO6cq"
      },
      "source": [
        ""
      ],
      "execution_count": null,
      "outputs": []
    }
  ]
}